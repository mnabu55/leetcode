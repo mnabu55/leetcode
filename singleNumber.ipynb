{
  "nbformat": 4,
  "nbformat_minor": 0,
  "metadata": {
    "colab": {
      "name": "singleNumber.ipynb",
      "provenance": [],
      "authorship_tag": "ABX9TyPLFgrHcailOXqdXeNiml3L",
      "include_colab_link": true
    },
    "kernelspec": {
      "name": "python3",
      "display_name": "Python 3"
    }
  },
  "cells": [
    {
      "cell_type": "markdown",
      "metadata": {
        "id": "view-in-github",
        "colab_type": "text"
      },
      "source": [
        "<a href=\"https://colab.research.google.com/github/mnabu55/leetcode/blob/master/singleNumber.ipynb\" target=\"_parent\"><img src=\"https://colab.research.google.com/assets/colab-badge.svg\" alt=\"Open In Colab\"/></a>"
      ]
    },
    {
      "cell_type": "code",
      "metadata": {
        "id": "DG1I_sxA3dTv",
        "colab_type": "code",
        "colab": {}
      },
      "source": [
        "from typing import List\n",
        "\n",
        "class Solution:\n",
        "    def singleNumber(self, nums: List[int]) -> int:\n",
        "        dict = {}\n",
        "        for item in nums:\n",
        "            if item in dict:\n",
        "                dict[item] += 1\n",
        "            else:\n",
        "                dict[item] = 1\n",
        "        \n",
        "        target = 0\n",
        "        for item in dict:\n",
        "            if dict[item] == 1:\n",
        "                target = int(item)\n",
        "                break\n",
        "\n",
        "        return target"
      ],
      "execution_count": 0,
      "outputs": []
    },
    {
      "cell_type": "code",
      "metadata": {
        "id": "NKIB4dGX3fAn",
        "colab_type": "code",
        "colab": {
          "base_uri": "https://localhost:8080/",
          "height": 34
        },
        "outputId": "969466e2-6cab-4aad-9f31-79bf7a477eae"
      },
      "source": [
        "ins = Solution()\n",
        "#list = [1,1,2,2,3]\n",
        "list = [-1]\n",
        "\n",
        "\n",
        "ins.singleNumber(list)\n",
        "print()"
      ],
      "execution_count": 3,
      "outputs": [
        {
          "output_type": "stream",
          "text": [
            "\n"
          ],
          "name": "stdout"
        }
      ]
    },
    {
      "cell_type": "code",
      "metadata": {
        "id": "VjeNN7rO3zc5",
        "colab_type": "code",
        "colab": {}
      },
      "source": [
        ""
      ],
      "execution_count": 0,
      "outputs": []
    }
  ]
}